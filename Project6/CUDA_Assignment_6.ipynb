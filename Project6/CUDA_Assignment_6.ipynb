{
  "nbformat": 4,
  "nbformat_minor": 0,
  "metadata": {
    "colab": {
      "name": "Assignment_6_CUDA.ipynb",
      "version": "0.3.2",
      "provenance": [],
      "collapsed_sections": []
    },
    "kernelspec": {
      "name": "python3",
      "display_name": "Python 3"
    },
    "accelerator": "GPU"
  },
  "cells": [
    {
      "cell_type": "code",
      "metadata": {
        "id": "fp9Dq9XDRwnl",
        "colab_type": "code",
        "colab": {}
      },
      "source": [
        "import torch\n",
        "import torch.nn as nn\n",
        "import torch.utils as utils\n",
        "import torchvision.datasets as dset\n",
        "import torchvision.transforms as transforms\n",
        "import matplotlib.pyplot as plt\n",
        "import os\n",
        "%matplotlib inline"
      ],
      "execution_count": 0,
      "outputs": []
    },
    {
      "cell_type": "code",
      "metadata": {
        "id": "sTqEToKJSQpC",
        "colab_type": "code",
        "colab": {}
      },
      "source": [
        "# Setting Hyperparameters\n",
        "\n",
        "epoch = 10\n",
        "batch_size =100\n",
        "learning_rate = 0.0005\n",
        "\n",
        "# Downloading CIFAR 10 Data\n",
        "\n",
        "cifar10_train = dset.CIFAR10(\"./\", train=True, transform=transforms.ToTensor(), target_transform=None, download=True)\n",
        "cifar10_test  = dset.CIFAR10(\"./\", train=False, transform=transforms.ToTensor(), target_transform=None, download=True)\n",
        "\n",
        "# Set Data Loader(input pipeline)\n",
        "\n",
        "train_loader = torch.utils.data.DataLoader(dataset=cifar10_train,batch_size=batch_size,shuffle=True)\n",
        "test_loader = torch.utils.data.DataLoader(dataset=cifar10_test,batch_size=batch_size,shuffle=True)"
      ],
      "execution_count": 0,
      "outputs": []
    },
    {
      "cell_type": "code",
      "metadata": {
        "id": "lEtdMcgfSaLv",
        "colab_type": "code",
        "colab": {}
      },
      "source": [
        "# Defining encoder class\n",
        "class Encoder(nn.Module):\n",
        "    def __init__(self):\n",
        "        super(Encoder,self).__init__()\n",
        "        self.layer1 = nn.Sequential(\n",
        "                        nn.Conv2d(3,32,3,padding=1),   # batch x 32 x 32 x 32\n",
        "                        nn.ReLU(),\n",
        "                        nn.BatchNorm2d(32),\n",
        "                        nn.Conv2d(32,32,3,padding=1),   # batch x 32 x 32 x 32\n",
        "                        nn.ReLU(),\n",
        "                        nn.BatchNorm2d(32),\n",
        "                        nn.Conv2d(32,64,3,padding=1),  # batch x 64 x 32 x 32\n",
        "                        nn.ReLU(),\n",
        "                        nn.BatchNorm2d(64),\n",
        "                        nn.Conv2d(64,64,3,padding=1),  # batch x 64 x 32 x 32\n",
        "                        nn.ReLU(),\n",
        "                        nn.BatchNorm2d(64),\n",
        "                        nn.MaxPool2d(2,2)   # batch x 64 x 16 x 16\n",
        "        )\n",
        "        self.layer2 = nn.Sequential(\n",
        "                        nn.Conv2d(64,128,3,padding=1),  # batch x 128 x 16 x 16\n",
        "                        nn.ReLU(),\n",
        "                        nn.BatchNorm2d(128),\n",
        "                        nn.Conv2d(128,128,3,padding=1),  # batch x 128 x 16 x 16\n",
        "                        nn.ReLU(),\n",
        "                        nn.BatchNorm2d(128),\n",
        "                        nn.MaxPool2d(2,2),\n",
        "                        nn.Conv2d(128,256,3,padding=1),  # batch x 256 x 8 x 8\n",
        "                        nn.ReLU()\n",
        "        )\n",
        "        \n",
        "                \n",
        "    def forward(self,x):\n",
        "        out = self.layer1(x)\n",
        "        out = self.layer2(out)\n",
        "        out = out.view(batch_size, -1)\n",
        "        return out\n",
        "    \n",
        "encoder = Encoder().cuda()"
      ],
      "execution_count": 0,
      "outputs": []
    },
    {
      "cell_type": "code",
      "metadata": {
        "id": "NMlfP6wxn_j2",
        "colab_type": "code",
        "colab": {}
      },
      "source": [
        "#Adding noise to the input image\n",
        "def add_noise(img):\n",
        "    noise = torch.randn(img.size()) * 0.2\n",
        "    noisy_img = img + noise\n",
        "    return noisy_img"
      ],
      "execution_count": 0,
      "outputs": []
    },
    {
      "cell_type": "code",
      "metadata": {
        "id": "L5F-SYyXSifn",
        "colab_type": "code",
        "colab": {}
      },
      "source": [
        "# Defining Decoder class\n",
        "class Decoder(nn.Module):\n",
        "    def __init__(self):\n",
        "        super(Decoder,self).__init__()\n",
        "        self.layer1 = nn.Sequential(\n",
        "                        nn.ConvTranspose2d(256,128,3,2,1,1),\n",
        "                        nn.ReLU(),\n",
        "                        nn.BatchNorm2d(128),\n",
        "                        nn.ConvTranspose2d(128,128,3,1,1),\n",
        "                        nn.ReLU(),\n",
        "                        nn.BatchNorm2d(128),\n",
        "                        nn.ConvTranspose2d(128,64,3,1,1),\n",
        "                        nn.ReLU(),\n",
        "                        nn.BatchNorm2d(64),\n",
        "                        nn.ConvTranspose2d(64,64,3,1,1),\n",
        "                        nn.ReLU(),\n",
        "                        nn.BatchNorm2d(64)\n",
        "        )\n",
        "        self.layer2 = nn.Sequential(\n",
        "                        nn.ConvTranspose2d(64,32,3,1,1),\n",
        "                        nn.ReLU(),\n",
        "                        nn.BatchNorm2d(32),\n",
        "                        nn.ConvTranspose2d(32,32,3,1,1),\n",
        "                        nn.ReLU(),\n",
        "                        nn.BatchNorm2d(32),\n",
        "                        nn.ConvTranspose2d(32,3,3,2,1,1),\n",
        "                        nn.ReLU()\n",
        "        )\n",
        "        \n",
        "    def forward(self,x):\n",
        "        out = x.view(batch_size,256,8,8)\n",
        "        out = self.layer1(out)\n",
        "        out = self.layer2(out)\n",
        "        return out\n",
        "\n",
        "decoder = Decoder().cuda()"
      ],
      "execution_count": 0,
      "outputs": []
    },
    {
      "cell_type": "code",
      "metadata": {
        "id": "tMLx9AdFSmiY",
        "colab_type": "code",
        "colab": {}
      },
      "source": [
        "# Check output of autoencoder\n",
        "\n",
        "for image,label in train_loader:\n",
        "    image = image.cuda()\n",
        "    \n",
        "    output = encoder(image)\n",
        "    output = decoder(output)\n",
        "    print(output.size())\n",
        "    break"
      ],
      "execution_count": 0,
      "outputs": []
    },
    {
      "cell_type": "code",
      "metadata": {
        "id": "xMrd5y7USpZF",
        "colab_type": "code",
        "colab": {}
      },
      "source": [
        "# loss func and optimizer\n",
        "# we compute reconstruction after decoder so use Mean Squared Error\n",
        "# In order to use multi parameters with one optimizer,\n",
        "# concat parameters after changing into list\n",
        "\n",
        "parameters = list(encoder.parameters())+ list(decoder.parameters())\n",
        "loss_func = nn.MSELoss()\n",
        "optimizer = torch.optim.Adam(parameters, lr=learning_rate)"
      ],
      "execution_count": 0,
      "outputs": []
    },
    {
      "cell_type": "code",
      "metadata": {
        "id": "idl99mRkSsMc",
        "colab_type": "code",
        "colab": {}
      },
      "source": [
        "# training encoder and decoder on cifar 10 data\n",
        "# save and load model\n",
        "if not os.path.exists('./model'):\n",
        "    os.mkdir('./model')\n",
        "try:\n",
        "    encoder, decoder = torch.load('./model/deno_autoencoder.pkl')\n",
        "    print(\"\\n--------model restored--------\\n\")\n",
        "except:\n",
        "    print(\"\\n--------model not restored--------\\n\")\n",
        "    pass\n",
        "epoch=1\n",
        "for i in range(epoch):\n",
        "    for image,label in train_loader:\n",
        "        image_n = add_noise(image)\n",
        "        image = image.cuda()\n",
        "        image_n = image_n.cuda()\n",
        "        #label = label.float().cuda()\n",
        "        optimizer.zero_grad()\n",
        "        output = encoder(image_n)\n",
        "        output = decoder(output)\n",
        "        loss = loss_func(output,image)\n",
        "        loss.backward()\n",
        "        optimizer.step()\n",
        "    print('epoch [{}/{}], loss:{:.4f}'\n",
        "          .format(i + 1, epoch, loss.item()))\n",
        "        \n",
        "                \n",
        "torch.save([encoder,decoder],'./model/deno_autoencoder.pkl')\n",
        "print(loss)"
      ],
      "execution_count": 0,
      "outputs": []
    },
    {
      "cell_type": "code",
      "metadata": {
        "id": "AHSAKYXkSvOD",
        "colab_type": "code",
        "colab": {}
      },
      "source": [
        "#Original image from the training set\n",
        "img = image[1].cpu()\n",
        "#Noisy image after adding noise to original image\n",
        "noisy_img = image_n[1].cpu()\n",
        "#Output image after encoder and decoder\n",
        "output_img = output[1].cpu()\n",
        "\n",
        "origin = img.numpy()\n",
        "noisy_inp = noisy_img.numpy()\n",
        "out = output_img.detach().numpy()\n",
        "\n",
        "print('Original image from dataset is:')\n",
        "plt.imshow(origin[0])\n",
        "plt.show()\n",
        "\n",
        "print('Image after adding noise is:')\n",
        "plt.imshow(noisy_inp[0])\n",
        "plt.show()\n",
        "\n",
        "print('Reconstructed image is:')\n",
        "plt.imshow(out[0])\n",
        "plt.show()"
      ],
      "execution_count": 0,
      "outputs": []
    },
    {
      "cell_type": "code",
      "metadata": {
        "id": "x0rFAf65LzE1",
        "colab_type": "code",
        "colab": {}
      },
      "source": [
        "#latent space classification\n",
        "#The latent space data is given an input to the SVM classfier\n",
        "from sklearn import svm\n",
        "correct=0\n",
        "knn=svm.SVC(kernel='linear')\n",
        "with torch.no_grad():\n",
        "  for image,label in train_loader:\n",
        "    image = image.cuda()\n",
        "    output = encoder(image)\n",
        "    classifier=knn.fit(output.cpu(),label)\n",
        "\n",
        "for data, target in test_loader:\n",
        "      image = data.cuda()\n",
        "      output = encoder(image)\n",
        "      output1 = Variable(output, requires_grad = False)\n",
        "      predicted= knn.predict(output1.cpu())\n",
        "      for i in range(len(predicted)):\n",
        "        if(predicted[i]==target[i]):\n",
        "           correct+= 1\n",
        "      \n",
        "accuracy = 100. * correct / float(len(test_loader.dataset))\n",
        "print('accuracy on testing data is '+str(accuracy)+ '%')"
      ],
      "execution_count": 0,
      "outputs": []
    }
  ]
}