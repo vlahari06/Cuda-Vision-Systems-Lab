{
  "nbformat": 4,
  "nbformat_minor": 0,
  "metadata": {
    "colab": {
      "name": "Laali.ipynb",
      "provenance": [],
      "collapsed_sections": []
    },
    "kernelspec": {
      "name": "python3",
      "display_name": "Python 3"
    },
    "accelerator": "GPU"
  },
  "cells": [
    {
      "cell_type": "code",
      "metadata": {
        "id": "-_ukL4ZsXYlg",
        "colab_type": "code",
        "colab": {}
      },
      "source": [
        "#import required packages\n",
        "import os\n",
        "import cv2\n",
        "import torch\n",
        "import random\n",
        "import numbers\n",
        "import numpy as np\n",
        "import pandas as pd\n",
        "from PIL import Image\n",
        "from torch.utils.data import Dataset, DataLoader\n",
        "from torch import randperm\n",
        "from torch._utils import _accumulate\n",
        "import torchvision\n",
        "from torchvision import datasets, transforms, models\n",
        "import torchvision.transforms.functional as F\n",
        "import xml.etree.ElementTree as ET\n",
        "import matplotlib.pyplot as plt\n",
        "import torch.nn as nn\n",
        "import torch.optim as optim\n",
        "from torch.optim import lr_scheduler\n",
        "import torch.nn as nn\n",
        "import time\n",
        "from skimage import io, transform\n",
        "import sklearn.metrics as skm\n",
        "import imutils\n",
        "from scipy.spatial import distance"
      ],
      "execution_count": 0,
      "outputs": []
    },
    {
      "cell_type": "markdown",
      "metadata": {
        "id": "J4NnKmsdf34P",
        "colab_type": "text"
      },
      "source": [
        "**Functions Required to prepare custom dataset**\n",
        "1. Finding bounding box details\n",
        "2. Heatmap generation\n",
        "3. Transformations applied to dataset\n",
        "4. Customized dataset preparation for both training and testing datasets\n",
        "\n"
      ]
    },
    {
      "cell_type": "code",
      "metadata": {
        "id": "32yTIKipX72U",
        "colab_type": "code",
        "colab": {}
      },
      "source": [
        "def find_bnddetails(bndvalues):\n",
        "   \"\"\" Finding details of boundary box from xml tag.\n",
        "   Args:\n",
        "   bndvalues: boundary details of the bounding box.\n",
        "    \n",
        "   Returns:\n",
        "   corners of boundary box, center of the box, height and width as a array.\n",
        "   \"\"\"\n",
        "   xmin = int(bndvalues.find('xmin').text)\n",
        "   ymin = int(bndvalues.find('ymin').text)\n",
        "   xmax = int(bndvalues.find('xmax').text)\n",
        "   ymax = int(bndvalues.find('ymax').text)\n",
        "   return np.array((xmin,ymin,xmax,ymax,(xmin+xmax)/2,(ymin+ymax)/2,np.abs(xmax-xmin),np.abs(ymin-ymax))).reshape(-1,2)"
      ],
      "execution_count": 0,
      "outputs": []
    },
    {
      "cell_type": "code",
      "metadata": {
        "id": "XGVAGMgPOOqT",
        "colab_type": "code",
        "colab": {}
      },
      "source": [
        "def New_bnddtls(bnddtls,scaling):\n",
        "    \"\"\" \n",
        "    Calculating the scaled boundary details\n",
        "    Args:\n",
        "    bnddtls: actual details of the boundary box\n",
        "    scaling: scaling factor to change the details of boundary box\n",
        "    Returns:\n",
        "    scaled boundary box details\n",
        "    \"\"\"\n",
        "    bnddtls[0] = bnddtls[0]/scaling\n",
        "    bnddtls[1] = bnddtls[1]/scaling\n",
        "    bnddtls[2][0] = (bnddtls[0, 0]+bnddtls[1, 0]) /2.0\n",
        "    bnddtls[2][1] = (bnddtls[0, 1]+bnddtls[1, 1])/2.0\n",
        "    bnddtls[3][0] = torch.abs(bnddtls[0, 0]-bnddtls[1, 0])\n",
        "    bnddtls[3][1] = torch.abs(bnddtls[0, 1]-bnddtls[1, 1])\n",
        "    return bnddtls"
      ],
      "execution_count": 0,
      "outputs": []
    },
    {
      "cell_type": "code",
      "metadata": {
        "id": "rjGRLXyGOIcb",
        "colab_type": "code",
        "colab": {}
      },
      "source": [
        "def HeatMap(bnddtls,filesize):\n",
        "    \"\"\" \n",
        "    Generating heatmap based on boundary details\n",
        "    Args:\n",
        "    bnddtls: actual details of the boundary box\n",
        "    filesize: size of the boundary box\n",
        "\n",
        "    Returns:\n",
        "    heat-map of size filesize/4 with center from bnddtls\n",
        "    \"\"\"\n",
        "    bnddtls.float()\n",
        "    height = bnddtls[3][0]\n",
        "    width  = bnddtls[3][1]\n",
        "    bnddtls = New_bnddtls(bnddtls,4.0)\n",
        "    img_heatmap = torch.zeros(int(filesize[0]/4),int(filesize[1]/4))\n",
        "    size=8\n",
        "    kernel = cv2.getGaussianKernel(size, 8)\n",
        "    kernel = np.dot(kernel, kernel.T)\n",
        "    kernel *= 100\n",
        "  \n",
        "    if bnddtls[2][1].item()+size > img_heatmap.shape[0]-1:\n",
        "                y_begin = img_heatmap.shape[0]-1-size\n",
        "    else:\n",
        "                y_begin = int(bnddtls[2][1].item())\n",
        "\n",
        "    if bnddtls[2][0].item()+size > img_heatmap.shape[1]-1:\n",
        "                x_begin = img_heatmap.shape[1]-1-size\n",
        "    else:\n",
        "                x_begin = int(bnddtls[2][0].item())\n",
        "\n",
        "    y_end = y_begin + (size)\n",
        "    x_end = x_begin + (size)\n",
        "    img_heatmap[y_begin : y_end, x_begin : x_end] = torch.from_numpy(kernel)\n",
        "    return img_heatmap"
      ],
      "execution_count": 0,
      "outputs": []
    },
    {
      "cell_type": "code",
      "metadata": {
        "id": "SadZjqAEYjEL",
        "colab_type": "code",
        "colab": {}
      },
      "source": [
        "class ToTensor(object):\n",
        "    \"\"\"Convert ndarrays or PIL image in sample to Tensors.\"\"\"\n",
        "        # swap color axis because\n",
        "        # numpy image: H x W x C\n",
        "        # torch image: C X H X W\n",
        "\n",
        "    def __call__(self, sample):\n",
        "      items = dict()\n",
        "      for key in sample.keys():\n",
        "          if key == 'image':\n",
        "            image = sample[key]\n",
        "            image = F.to_tensor(image)\n",
        "            items[key] = image\n",
        "          else:\n",
        "            dtls = torch.FloatTensor(sample[key])\n",
        "            items[key] = dtls\n",
        "      return items"
      ],
      "execution_count": 0,
      "outputs": []
    },
    {
      "cell_type": "code",
      "metadata": {
        "id": "OF__QQZLYq8j",
        "colab_type": "code",
        "colab": {}
      },
      "source": [
        "class Rescale(object):\n",
        "    \"\"\"\n",
        "    Rescale the object to the size of given in output_size\n",
        "    Args:\n",
        "    output_size (tensor): required size of the output image\n",
        "    \"\"\"\n",
        "    def __init__(self, output_size):\n",
        "        assert isinstance(output_size, (int, tuple))\n",
        "        self.output_size = output_size\n",
        "\n",
        "    def __call__(self, sample):\n",
        "        items = dict()\n",
        "        image = sample['image']\n",
        "        w, h = image.size\n",
        "        if isinstance(self.output_size, int):\n",
        "           if h > w:\n",
        "              new_h, new_w = self.output_size * h / w, self.output_size\n",
        "           else:\n",
        "              new_h, new_w = self.output_size, self.output_size * w / h\n",
        "        else:\n",
        "           new_h, new_w = self.output_size\n",
        "\n",
        "        new_h, new_w = int(new_h), int(new_w)\n",
        "\n",
        "        for key in sample.keys():\n",
        "          if key == 'image':\n",
        "              img = F.resize(image, (new_h, new_w))\n",
        "              items[key] = img\n",
        "          else:\n",
        "              all_dtls = sample[key]\n",
        "              \n",
        "              for i, dtls in enumerate(all_dtls):\n",
        "                  all_dtls[i][0] = np.round(dtls[0] * np.array([new_w / w, new_h / h]), 0)\n",
        "                  all_dtls[i][1] = np.round(dtls[1] * np.array([new_w / w, new_h / h]), 0)\n",
        "                  all_dtls[i][3] = np.abs([dtls[0, 0]-dtls[1, 0], dtls[0, 1]-dtls[1, 1]])\n",
        "                  all_dtls[i][2] = np.array([dtls[0, 0]+dtls[3, 0]/2, dtls[0, 1]+dtls[3, 1]/2])\n",
        "\n",
        "              items[key] = all_dtls\n",
        "              \n",
        "        return items"
      ],
      "execution_count": 0,
      "outputs": []
    },
    {
      "cell_type": "code",
      "metadata": {
        "id": "RP_cIf-KT4gV",
        "colab_type": "code",
        "colab": {}
      },
      "source": [
        "class RandomVerticalFlip(object):\n",
        "    \"\"\"\n",
        "    Vertical flip the given PIL Image randomly with a given probability.\n",
        "    Args:\n",
        "    p (float): probability of the image being flipped. Default value is 0.5\n",
        "    \"\"\"\n",
        "\n",
        "    def __init__(self, p=0.5):\n",
        "        self.p = p\n",
        "\n",
        "    def __call__(self, sample):\n",
        "      items = dict()\n",
        "      image = sample['image']\n",
        "      w, h = image.size\n",
        "      if random.random() < self.p:\n",
        "        for key in sample.keys():\n",
        "            if key == 'image':\n",
        "               image = F.vflip(image)\n",
        "               items[key] = image\n",
        "            else:\n",
        "              all_dtls = sample[key]\n",
        "              \n",
        "              for i, dtls in enumerate(all_dtls):\n",
        "                 if dtls[2][0] > 0 and dtls[2][1] > 0:\n",
        "                    dtls[0][1] = h-1-dtls[0][1]-dtls[3][1]\n",
        "                    dtls[1][1] = h-1-dtls[1][1]+dtls[3][1]\n",
        "                    dtls[2][1] = h-1-dtls[2][1]\n",
        "\n",
        "              items[key] = all_dtls\n",
        "      else:\n",
        "         return sample\n",
        "      return items"
      ],
      "execution_count": 0,
      "outputs": []
    },
    {
      "cell_type": "code",
      "metadata": {
        "id": "q1TW7Lq1fpuI",
        "colab_type": "code",
        "colab": {}
      },
      "source": [
        "class RandomHorizontalFlip(object):\n",
        "    \"\"\"\n",
        "    Horizontally flip the given PIL Image randomly with a given probability.\n",
        "\n",
        "    Args:\n",
        "    p (float): probability of the image being flipped. Default value is 0.5\n",
        "    \"\"\"\n",
        "\n",
        "    def __init__(self, p=0.5):\n",
        "        self.p = p\n",
        "\n",
        "    def __call__(self, sample):\n",
        "      items = dict()\n",
        "      image = sample['image']\n",
        "      w, h = image.size\n",
        "      \n",
        "      if random.random() < self.p:\n",
        "          for key in sample.keys():\n",
        "             if(key == 'image'):  \n",
        "                image = F.hflip(image)\n",
        "                items[key] = image\n",
        "             else:\n",
        "                all_dtls = sample[key]\n",
        "              \n",
        "                for i, dtls in enumerate(all_dtls):\n",
        "                   if dtls[2][0] > 0 and dtls[2][1] > 0:\n",
        "                      dtls[0][0] = w-1-dtls[0][0]-dtls[3][0]\n",
        "                      dtls[1][0] = w-1-dtls[1][0]+dtls[3][0]\n",
        "                      dtls[2][0] = w-1-dtls[2][0]\n",
        "\n",
        "                items[key] = all_dtls\n",
        "      else:\n",
        "         return sample\n",
        "      return items"
      ],
      "execution_count": 0,
      "outputs": []
    },
    {
      "cell_type": "code",
      "metadata": {
        "id": "oUGJG_DYYzEQ",
        "colab_type": "code",
        "colab": {}
      },
      "source": [
        "#Normalizing the dataset\n",
        "class Normalize(object):\n",
        "    \"\"\"Normalize the image using mean and standard deviation provided.\n",
        "\n",
        "    Args:\n",
        "    mean(tensor): Mean of the guassian distribution to be used for normalization in \n",
        "    each dimension of the image.\n",
        "    std: Standard deviation of the guassian distribution to be used for normalization in \n",
        "    each dimension of the image.\n",
        "    \"\"\"\n",
        "    def __init__(self, mean, std):\n",
        "        self.mean = mean\n",
        "        self.std = std\n",
        "\n",
        "    def __call__(self, sample):\n",
        "        \"\"\" \n",
        "        Normalizes the image in each dimension as per the mean and std values.      \n",
        "        \"\"\"\n",
        "        items = dict()\n",
        "        for key in sample.keys():\n",
        "          if key == 'image':\n",
        "            image = sample[key]\n",
        "            items[key] = F.normalize(image, self.mean, self.std)\n",
        "          else:\n",
        "            items[key] = sample[key]\n",
        "        return items "
      ],
      "execution_count": 0,
      "outputs": []
    },
    {
      "cell_type": "code",
      "metadata": {
        "id": "sl-BLYcuyA4J",
        "colab_type": "code",
        "colab": {}
      },
      "source": [
        "class Lambda(object):\n",
        "    \"\"\"Apply a user-defined lambda as a transform.\n",
        "\n",
        "    Args:\n",
        "    lambd (function): Lambda/function to be used for transform.\n",
        "    \"\"\"\n",
        "\n",
        "    def __init__(self, lambd):\n",
        "        assert callable(lambd), repr(type(lambd).__name__) + \\\n",
        "            \" object is not callable\"\n",
        "        self.lambd = lambd\n",
        "\n",
        "    def __call__(self, img):\n",
        "        return self.lambd(img)\n",
        "\n",
        "    def __repr__(self):\n",
        "        return self.__class__.__name__ + '()'\n"
      ],
      "execution_count": 0,
      "outputs": []
    },
    {
      "cell_type": "code",
      "metadata": {
        "id": "VCAM2hLdm2ZS",
        "colab_type": "code",
        "colab": {}
      },
      "source": [
        "class ColorJitter(object):\n",
        "    \"\"\"Randomly change the brightness, contrast and saturation of an image.\n",
        "\n",
        "    Args:\n",
        "        brightness (float or tuple of float (min, max)): How much to jitter brightness.\n",
        "            brightness_factor is chosen uniformly from [max(0, 1 - brightness), 1 + brightness]\n",
        "            or the given [min, max]. Should be non negative numbers.\n",
        "        contrast (float or tuple of float (min, max)): How much to jitter contrast.\n",
        "            contrast_factor is chosen uniformly from [max(0, 1 - contrast), 1 + contrast]\n",
        "            or the given [min, max]. Should be non negative numbers.\n",
        "        saturation (float or tuple of float (min, max)): How much to jitter saturation.\n",
        "            saturation_factor is chosen uniformly from [max(0, 1 - saturation), 1 + saturation]\n",
        "            or the given [min, max]. Should be non negative numbers.\n",
        "        hue (float or tuple of float (min, max)): How much to jitter hue.\n",
        "            hue_factor is chosen uniformly from [-hue, hue] or the given [min, max].\n",
        "            Should have 0<= hue <= 0.5 or -0.5 <= min <= max <= 0.5.\n",
        "    \"\"\"\n",
        "\n",
        "    def __init__(self, brightness=0, contrast=0, saturation=0, hue=0):\n",
        "        self.brightness = self._check_input(brightness, 'brightness')\n",
        "        self.contrast = self._check_input(contrast, 'contrast')\n",
        "        self.saturation = self._check_input(saturation, 'saturation')\n",
        "        self.hue = self._check_input(hue, 'hue', center=0, bound=(-0.5, 0.5),\n",
        "                                     clip_first_on_zero=False)\n",
        "\n",
        "    def _check_input(self, value, name, center=1, bound=(0, float('inf')), clip_first_on_zero=True):\n",
        "        if isinstance(value, numbers.Number):\n",
        "            if value < 0:\n",
        "                raise ValueError(\n",
        "                    \"If {} is a single number, it must be non negative.\".format(name))\n",
        "            value = [center - value, center + value]\n",
        "            if clip_first_on_zero:\n",
        "                value[0] = max(value[0], 0)\n",
        "        elif isinstance(value, (tuple, list)) and len(value) == 2:\n",
        "            if not bound[0] <= value[0] <= value[1] <= bound[1]:\n",
        "                raise ValueError(\n",
        "                    \"{} values should be between {}\".format(name, bound))\n",
        "        else:\n",
        "            raise TypeError(\n",
        "                \"{} should be a single number or a list/tuple with lenght 2.\".format(name))\n",
        "\n",
        "        # if value is 0 or (1., 1.) for brightness/contrast/saturation\n",
        "        # or (0., 0.) for hue, do nothing\n",
        "        if value[0] == value[1] == center:\n",
        "            value = None\n",
        "        return value\n",
        "\n",
        "    @staticmethod\n",
        "    def get_params(brightness, contrast, saturation, hue):\n",
        "        \"\"\"Get a randomized transform to be applied on image.\n",
        "\n",
        "        Arguments are same as that of __init__.\n",
        "\n",
        "        Returns:\n",
        "            Transform which randomly adjusts brightness, contrast and\n",
        "            saturation in a random order.\n",
        "        \"\"\"\n",
        "        tforms = []\n",
        "\n",
        "        if brightness is not None:\n",
        "            brightness_factor = random.uniform(brightness[0], brightness[1])\n",
        "            tforms.append(\n",
        "                Lambda(lambda img: F.adjust_brightness(img, brightness_factor)))\n",
        "\n",
        "        if contrast is not None:\n",
        "            contrast_factor = random.uniform(contrast[0], contrast[1])\n",
        "            tforms.append(\n",
        "                Lambda(lambda img: F.adjust_contrast(img, contrast_factor)))\n",
        "\n",
        "        if saturation is not None:\n",
        "            saturation_factor = random.uniform(saturation[0], saturation[1])\n",
        "            tforms.append(\n",
        "                Lambda(lambda img: F.adjust_saturation(img, saturation_factor)))\n",
        "\n",
        "        if hue is not None:\n",
        "            hue_factor = random.uniform(hue[0], hue[1])\n",
        "            tforms.append(Lambda(lambda img: F.adjust_hue(img, hue_factor)))\n",
        "\n",
        "        random.shuffle(tforms)\n",
        "        transform = transforms.Compose(tforms)\n",
        "\n",
        "        return transform\n",
        "\n",
        "    def __call__(self, sample):\n",
        "        \"\"\"\n",
        "        Args:\n",
        "            sample (List): List of Input image and bounding box\n",
        "\n",
        "        Returns:\n",
        "            List: Color jittered image and original bounding box.\n",
        "        \"\"\"\n",
        "        items = dict()\n",
        "        for key in sample.keys():\n",
        "          if key == 'image':\n",
        "            image = sample[key]\n",
        "            transform = self.get_params(self.brightness, self.contrast,\n",
        "                                    self.saturation, self.hue)\n",
        "            items[key] =  transform(image)\n",
        "          else:\n",
        "            items[key] = sample[key]\n",
        "        return items"
      ],
      "execution_count": 0,
      "outputs": []
    },
    {
      "cell_type": "code",
      "metadata": {
        "id": "kFfsEOJPZDrO",
        "colab_type": "code",
        "colab": {}
      },
      "source": [
        "class RobotDataset(Dataset):\n",
        "    \"\"\"Cutomized Dataset used to train the model.\n",
        "    Args:\n",
        "      root_dir: path where all the training files are saved.\n",
        "      transform: transformations to be applied to the dataset.\n",
        "      filenames: names of all the files in training dataset.\n",
        "    \"\"\"\n",
        "    def __init__(self, root_dir, transform=None):\n",
        "            \n",
        "        self.root_dir = root_dir\n",
        "        self.transform = transform\n",
        "        self.filenames = []\n",
        "        for file in os.listdir(root_dir):\n",
        "            if file.endswith(\".jpg\") or file.endswith('.jpeg'):\n",
        "               self.filenames.append(file)\n",
        "    def __len__(self):\n",
        "        \"\"\"Length of the dataset\"\"\"\n",
        "        return len(self.filenames)\n",
        "\n",
        "    def __getitem__(self, ind):\n",
        "        filepath =os.path.join(self.root_dir,self.filenames[ind])\n",
        "        image = Image.open(filepath)\n",
        "        if(filepath.endswith('.jpg')):\n",
        "          xml_data = ET.parse(filepath.replace('.jpg','.xml')).getroot()\n",
        "        elif(filepath.endswith('.jpeg')):\n",
        "          xml_data = ET.parse(filepath.replace('.jpeg','.xml')).getroot()        \n",
        "        all_dtls= []\n",
        "        \n",
        "        for group in xml_data.findall('object'):\n",
        "            bndvalues = group.find('bndbox')\n",
        "            all_dtls.append(find_bnddetails(bndvalues))       \n",
        "        sample = {'image': image, 'dtls': all_dtls}\n",
        "        if self.transform:\n",
        "            if type(self.transform) is not list:\n",
        "              self.transform = [self.transform]\n",
        "            for idx in range(len(self.transform)):\n",
        "                  sample = self.transform[idx](sample)\n",
        "        size = sample['image'].shape\n",
        "        heatmap_list = torch.zeros([4,int(size[1]/4),int(size[2]/4)])\n",
        "        i=0\n",
        "        for group in xml_data.findall('object'):\n",
        "            label = group.find('name').text\n",
        "            img_heatmap = HeatMap(sample['dtls'][i],(size[1],size[2]))\n",
        "            if(label == 'Head'):\n",
        "               heatmap_list[0] += img_heatmap\n",
        "            elif (label == 'Foot'):\n",
        "               heatmap_list[1] += img_heatmap \n",
        "            elif (label == 'Trunk'):\n",
        "               heatmap_list[2] += img_heatmap \n",
        "            elif (label == 'Hand'):\n",
        "               heatmap_list[3] += img_heatmap \n",
        "            i+=1  \n",
        "        dataset = {'image': sample['image'], 'heatmap': heatmap_list}\n",
        "        return dataset"
      ],
      "execution_count": 0,
      "outputs": []
    },
    {
      "cell_type": "code",
      "metadata": {
        "id": "bfDfIwbhZKY1",
        "colab_type": "code",
        "colab": {}
      },
      "source": [
        "class TestDataset(Dataset):\n",
        "\n",
        "    \"\"\"Customized dataset used for testing the model.\n",
        "\n",
        "    Args:\n",
        "        root_dir: path where all the training files are saved.\n",
        "        transform: transformations to be applied to the dataset.\n",
        "        filenames: names of all the files in training dataset.\n",
        "        \n",
        "    \"\"\"\n",
        "    def __init__(self, root_dir, transform=None):\n",
        "            \n",
        "        self.root_dir = root_dir\n",
        "        self.transform = transform\n",
        "        self.filenames = []\n",
        "        for file in os.listdir(root_dir):\n",
        "            if file.endswith(\".jpg\"):\n",
        "               self.filenames.append(file)\n",
        "    def __len__(self):\n",
        "        return len(self.filenames)\n",
        "\n",
        "    def __getitem__(self, ind):\n",
        "        filepath =os.path.join(self.root_dir,self.filenames[ind])\n",
        "        image = Image.open(filepath)\n",
        "        xml_data = ET.parse(filepath.replace('jpg','xml')).getroot()\n",
        "        head_dtls = np.zeros((3,4,2))\n",
        "        trunk_dtls = np.zeros((3,4,2))\n",
        "        hands_dtls = np.zeros((6,4,2))\n",
        "        foot_dtls = np.zeros((6,4,2))\n",
        "        head_idx = 0\n",
        "        trunk_idx = 0\n",
        "        hands_idx = 0\n",
        "        foot_idx = 0\n",
        "        for group in xml_data.findall('object'):\n",
        "            bndvalues = group.find('bndbox')\n",
        "            label = group.find('name').text\n",
        "            if(label == 'Head' and head_idx < 3):\n",
        "              head_dtls[head_idx] = find_bnddetails(bndvalues)\n",
        "              head_idx += 1\n",
        "            elif(label == 'Trunk' and trunk_idx < 3):\n",
        "              trunk_dtls[trunk_idx] = find_bnddetails(bndvalues)\n",
        "              trunk_idx += 1\n",
        "            elif(label == 'Foot' and foot_idx < 6):\n",
        "              foot_dtls[foot_idx] = find_bnddetails(bndvalues)\n",
        "              foot_idx += 1\n",
        "            elif(label == 'Hand' and hands_idx < 6):\n",
        "              hands_dtls[hands_idx] = find_bnddetails(bndvalues)\n",
        "              hands_idx += 1\n",
        "        sample = {'image': image, \n",
        "                  'head_dtls': head_dtls,\n",
        "                  'trunk_dtls':trunk_dtls,\n",
        "                  'hands_dtls':hands_dtls,\n",
        "                  'foot_dtls' : foot_dtls}\n",
        "        if self.transform:\n",
        "            if type(self.transform) is not list:\n",
        "              self.transform = [self.transform]\n",
        "            for idx in range(len(self.transform)):\n",
        "                  sample = self.transform[idx](sample)\n",
        "        \n",
        "        return sample"
      ],
      "execution_count": 0,
      "outputs": []
    },
    {
      "cell_type": "markdown",
      "metadata": {
        "id": "2RjJG1IngCfA",
        "colab_type": "text"
      },
      "source": [
        "**STEP 1: LOADING DATASET**\n"
      ]
    },
    {
      "cell_type": "code",
      "metadata": {
        "id": "ktZGGMM5Z-HC",
        "colab_type": "code",
        "outputId": "52beb378-26e9-401d-8378-46fbc0ffa0f0",
        "colab": {
          "base_uri": "https://localhost:8080/",
          "height": 122
        }
      },
      "source": [
        "#mounting google drive\n",
        "from google.colab import drive\n",
        "drive.mount('/content/drive')"
      ],
      "execution_count": 0,
      "outputs": [
        {
          "output_type": "stream",
          "text": [
            "Go to this URL in a browser: https://accounts.google.com/o/oauth2/auth?client_id=947318989803-6bn6qk8qdgf4n4g3pfee6491hc0brc4i.apps.googleusercontent.com&redirect_uri=urn%3Aietf%3Awg%3Aoauth%3A2.0%3Aoob&scope=email%20https%3A%2F%2Fwww.googleapis.com%2Fauth%2Fdocs.test%20https%3A%2F%2Fwww.googleapis.com%2Fauth%2Fdrive%20https%3A%2F%2Fwww.googleapis.com%2Fauth%2Fdrive.photos.readonly%20https%3A%2F%2Fwww.googleapis.com%2Fauth%2Fpeopleapi.readonly&response_type=code\n",
            "\n",
            "Enter your authorization code:\n",
            "··········\n",
            "Mounted at /content/drive\n"
          ],
          "name": "stdout"
        }
      ]
    },
    {
      "cell_type": "code",
      "metadata": {
        "id": "ClpGwoFVZexN",
        "colab_type": "code",
        "colab": {}
      },
      "source": [
        "transforms1 = [Rescale((480,640)),RandomHorizontalFlip(), RandomVerticalFlip(),\n",
        "                ColorJitter(brightness=0.1, contrast=0.1, saturation=0.1),\n",
        "                ToTensor(), Normalize([0.485, 0.456, 0.406], [0.229, 0.224, 0.225])]\n",
        "transforms2 = [Rescale((480,640)),ToTensor(), Normalize([0.485, 0.456, 0.406], [0.229, 0.224, 0.225])]\n",
        "train_dataset = RobotDataset(root_dir = '/content/drive/My Drive/Final_dataset/Train',transform=transforms1)\n",
        "test_dataset = TestDataset(root_dir = '/content/drive/My Drive/Final_dataset/Test1',transform=transforms2)"
      ],
      "execution_count": 0,
      "outputs": []
    },
    {
      "cell_type": "markdown",
      "metadata": {
        "id": "BiROy0_WgIqa",
        "colab_type": "text"
      },
      "source": [
        "**STEP 2: MAKING DATASET ITERABLE**"
      ]
    },
    {
      "cell_type": "code",
      "metadata": {
        "id": "CiS088MY1-Fu",
        "colab_type": "code",
        "outputId": "7868cc66-e38d-4185-915a-429c195affc1",
        "colab": {
          "base_uri": "https://localhost:8080/",
          "height": 34
        }
      },
      "source": [
        "#Length of training dataset\n",
        "len(train_dataset)"
      ],
      "execution_count": 0,
      "outputs": [
        {
          "output_type": "execute_result",
          "data": {
            "text/plain": [
              "2128"
            ]
          },
          "metadata": {
            "tags": []
          },
          "execution_count": 29
        }
      ]
    },
    {
      "cell_type": "code",
      "metadata": {
        "id": "Ileyr4I5hY7G",
        "colab_type": "code",
        "outputId": "5fabd736-2c55-49dc-c636-027952557bee",
        "colab": {
          "base_uri": "https://localhost:8080/",
          "height": 34
        }
      },
      "source": [
        "#Length of testing dataset\n",
        "len(test_dataset)"
      ],
      "execution_count": 0,
      "outputs": [
        {
          "output_type": "execute_result",
          "data": {
            "text/plain": [
              "818"
            ]
          },
          "metadata": {
            "tags": []
          },
          "execution_count": 30
        }
      ]
    },
    {
      "cell_type": "code",
      "metadata": {
        "id": "hucTmeVjZiC6",
        "colab_type": "code",
        "colab": {}
      },
      "source": [
        "#batch size\n",
        "batch_size = 5\n",
        "\n",
        "#set device to GPU\n",
        "device = torch.device(\"cuda:0\" if torch.cuda.is_available() else \"cpu\")\n",
        "\n",
        "train_loader = torch.utils.data.DataLoader(dataset=train_dataset, \n",
        "                                           batch_size=batch_size, \n",
        "                                           shuffle=True)\n",
        "testloader = torch.utils.data.DataLoader(dataset=test_dataset, \n",
        "                                           batch_size=batch_size, \n",
        "                                           shuffle=True)"
      ],
      "execution_count": 0,
      "outputs": []
    },
    {
      "cell_type": "markdown",
      "metadata": {
        "id": "9VVfo_kOgOFp",
        "colab_type": "text"
      },
      "source": [
        "**STEP 3: CREATE MODEL CLASS**"
      ]
    },
    {
      "cell_type": "code",
      "metadata": {
        "id": "zNPfsXCKZ12x",
        "colab_type": "code",
        "colab": {}
      },
      "source": [
        "class myModel(nn.Module):\n",
        "      \"\"\"\n",
        "        Model for body parts detection\n",
        "      \"\"\"\n",
        "      def __init__(self):\n",
        "        super(myModel,self).__init__()\n",
        "        model_resnet = models.resnet18(pretrained=True)\n",
        "        self.encoder_block1 = nn.Sequential(*list(model_resnet.children())[0:5])\n",
        "        self.encoder_block2 = nn.Sequential(*list(model_resnet.children())[5:6])\n",
        "        self.encoder_block3 = nn.Sequential(*list(model_resnet.children())[6:7])\n",
        "        self.encoder_block4 = nn.Sequential(*list(model_resnet.children())[7:-2])\n",
        "         \n",
        "        self.decoder_block1 = nn.Sequential(\n",
        "                        nn.ReLU(),\n",
        "                        nn.ConvTranspose2d(512,128,3,2,1,output_padding = 1))\n",
        "                             \n",
        "        self.decoder_block2 = nn.Sequential(\n",
        "                        nn.ReLU(),\n",
        "                        nn.BatchNorm2d(256),\n",
        "                        nn.ConvTranspose2d(256,128,3,2,1,output_padding = 1))\n",
        "                        \n",
        "        self.decoder_block3 = nn.Sequential(\n",
        "                        nn.ReLU(),\n",
        "                        nn.BatchNorm2d(256),\n",
        "                        nn.ConvTranspose2d(256,128,3,2,1,output_padding = 1))\n",
        "                        \n",
        "        self.decoder_block4 = nn.Sequential(\n",
        "                        nn.ReLU(),\n",
        "                        nn.BatchNorm2d(256),\n",
        "                        nn.ConvTranspose2d(256,4,3,1,1))\n",
        "        self.conv1x1_1 = nn.Conv2d(in_channels=64, out_channels=128, kernel_size=1)\n",
        "        self.conv1x1_2 = nn.Conv2d(in_channels=128, out_channels=128, kernel_size=1)\n",
        "        self.conv1x1_3 = nn.Conv2d(in_channels=256, out_channels=128, kernel_size=1)\n",
        "         \n",
        "      \n",
        "\n",
        "      def forward(self,x):\n",
        "        out = self.encoder_block1(x) #64x120x160\n",
        "        residual1 = self.conv1x1_1(out) #128x120x160\n",
        "         \n",
        "        out = self.encoder_block2(out)  #128x60x80\n",
        "         \n",
        "        residual2 = self.conv1x1_2(out)#128x60x80\n",
        "         \n",
        "        out = self.encoder_block3(out) #256x30x40\n",
        "         \n",
        "        residual3 = self.conv1x1_3(out) #128x30x40\n",
        "        out = self.encoder_block4(out) #512x15x20\n",
        "        \n",
        "        out = self.decoder_block1(out) #128x30x40\n",
        "        \n",
        "        \n",
        "        decoder_block2_input = torch.cat((out,residual3), 1) \n",
        "        \n",
        "        out = self.decoder_block2(decoder_block2_input)\n",
        "        \n",
        "        decoder_block3_input = torch.cat((out,residual2),1) \n",
        "        \n",
        "        out = self.decoder_block3(decoder_block3_input) \n",
        "        decoder_block4_input = torch.cat((out,residual1),1) \n",
        "        out = self.decoder_block4(decoder_block4_input) \n",
        "        return out        "
      ],
      "execution_count": 0,
      "outputs": []
    },
    {
      "cell_type": "markdown",
      "metadata": {
        "id": "-bB9LrFPgUCh",
        "colab_type": "text"
      },
      "source": [
        "**STEP 4: INSTANTIATE MODEL CLASS**"
      ]
    },
    {
      "cell_type": "code",
      "metadata": {
        "id": "H-mox-TWdc1I",
        "colab_type": "code",
        "outputId": "3f059a71-2bfe-4ea1-b4f5-0cd5fb01d5ef",
        "colab": {
          "base_uri": "https://localhost:8080/",
          "height": 1000
        }
      },
      "source": [
        "#to instantiate and use the model\n",
        "model = myModel()\n",
        "model.to(device)"
      ],
      "execution_count": 0,
      "outputs": [
        {
          "output_type": "stream",
          "text": [
            "Downloading: \"https://download.pytorch.org/models/resnet18-5c106cde.pth\" to /root/.cache/torch/checkpoints/resnet18-5c106cde.pth\n",
            "100%|██████████| 44.7M/44.7M [00:01<00:00, 26.2MB/s]\n"
          ],
          "name": "stderr"
        },
        {
          "output_type": "execute_result",
          "data": {
            "text/plain": [
              "myModel(\n",
              "  (encoder_block1): Sequential(\n",
              "    (0): Conv2d(3, 64, kernel_size=(7, 7), stride=(2, 2), padding=(3, 3), bias=False)\n",
              "    (1): BatchNorm2d(64, eps=1e-05, momentum=0.1, affine=True, track_running_stats=True)\n",
              "    (2): ReLU(inplace=True)\n",
              "    (3): MaxPool2d(kernel_size=3, stride=2, padding=1, dilation=1, ceil_mode=False)\n",
              "    (4): Sequential(\n",
              "      (0): BasicBlock(\n",
              "        (conv1): Conv2d(64, 64, kernel_size=(3, 3), stride=(1, 1), padding=(1, 1), bias=False)\n",
              "        (bn1): BatchNorm2d(64, eps=1e-05, momentum=0.1, affine=True, track_running_stats=True)\n",
              "        (relu): ReLU(inplace=True)\n",
              "        (conv2): Conv2d(64, 64, kernel_size=(3, 3), stride=(1, 1), padding=(1, 1), bias=False)\n",
              "        (bn2): BatchNorm2d(64, eps=1e-05, momentum=0.1, affine=True, track_running_stats=True)\n",
              "      )\n",
              "      (1): BasicBlock(\n",
              "        (conv1): Conv2d(64, 64, kernel_size=(3, 3), stride=(1, 1), padding=(1, 1), bias=False)\n",
              "        (bn1): BatchNorm2d(64, eps=1e-05, momentum=0.1, affine=True, track_running_stats=True)\n",
              "        (relu): ReLU(inplace=True)\n",
              "        (conv2): Conv2d(64, 64, kernel_size=(3, 3), stride=(1, 1), padding=(1, 1), bias=False)\n",
              "        (bn2): BatchNorm2d(64, eps=1e-05, momentum=0.1, affine=True, track_running_stats=True)\n",
              "      )\n",
              "    )\n",
              "  )\n",
              "  (encoder_block2): Sequential(\n",
              "    (0): Sequential(\n",
              "      (0): BasicBlock(\n",
              "        (conv1): Conv2d(64, 128, kernel_size=(3, 3), stride=(2, 2), padding=(1, 1), bias=False)\n",
              "        (bn1): BatchNorm2d(128, eps=1e-05, momentum=0.1, affine=True, track_running_stats=True)\n",
              "        (relu): ReLU(inplace=True)\n",
              "        (conv2): Conv2d(128, 128, kernel_size=(3, 3), stride=(1, 1), padding=(1, 1), bias=False)\n",
              "        (bn2): BatchNorm2d(128, eps=1e-05, momentum=0.1, affine=True, track_running_stats=True)\n",
              "        (downsample): Sequential(\n",
              "          (0): Conv2d(64, 128, kernel_size=(1, 1), stride=(2, 2), bias=False)\n",
              "          (1): BatchNorm2d(128, eps=1e-05, momentum=0.1, affine=True, track_running_stats=True)\n",
              "        )\n",
              "      )\n",
              "      (1): BasicBlock(\n",
              "        (conv1): Conv2d(128, 128, kernel_size=(3, 3), stride=(1, 1), padding=(1, 1), bias=False)\n",
              "        (bn1): BatchNorm2d(128, eps=1e-05, momentum=0.1, affine=True, track_running_stats=True)\n",
              "        (relu): ReLU(inplace=True)\n",
              "        (conv2): Conv2d(128, 128, kernel_size=(3, 3), stride=(1, 1), padding=(1, 1), bias=False)\n",
              "        (bn2): BatchNorm2d(128, eps=1e-05, momentum=0.1, affine=True, track_running_stats=True)\n",
              "      )\n",
              "    )\n",
              "  )\n",
              "  (encoder_block3): Sequential(\n",
              "    (0): Sequential(\n",
              "      (0): BasicBlock(\n",
              "        (conv1): Conv2d(128, 256, kernel_size=(3, 3), stride=(2, 2), padding=(1, 1), bias=False)\n",
              "        (bn1): BatchNorm2d(256, eps=1e-05, momentum=0.1, affine=True, track_running_stats=True)\n",
              "        (relu): ReLU(inplace=True)\n",
              "        (conv2): Conv2d(256, 256, kernel_size=(3, 3), stride=(1, 1), padding=(1, 1), bias=False)\n",
              "        (bn2): BatchNorm2d(256, eps=1e-05, momentum=0.1, affine=True, track_running_stats=True)\n",
              "        (downsample): Sequential(\n",
              "          (0): Conv2d(128, 256, kernel_size=(1, 1), stride=(2, 2), bias=False)\n",
              "          (1): BatchNorm2d(256, eps=1e-05, momentum=0.1, affine=True, track_running_stats=True)\n",
              "        )\n",
              "      )\n",
              "      (1): BasicBlock(\n",
              "        (conv1): Conv2d(256, 256, kernel_size=(3, 3), stride=(1, 1), padding=(1, 1), bias=False)\n",
              "        (bn1): BatchNorm2d(256, eps=1e-05, momentum=0.1, affine=True, track_running_stats=True)\n",
              "        (relu): ReLU(inplace=True)\n",
              "        (conv2): Conv2d(256, 256, kernel_size=(3, 3), stride=(1, 1), padding=(1, 1), bias=False)\n",
              "        (bn2): BatchNorm2d(256, eps=1e-05, momentum=0.1, affine=True, track_running_stats=True)\n",
              "      )\n",
              "    )\n",
              "  )\n",
              "  (encoder_block4): Sequential(\n",
              "    (0): Sequential(\n",
              "      (0): BasicBlock(\n",
              "        (conv1): Conv2d(256, 512, kernel_size=(3, 3), stride=(2, 2), padding=(1, 1), bias=False)\n",
              "        (bn1): BatchNorm2d(512, eps=1e-05, momentum=0.1, affine=True, track_running_stats=True)\n",
              "        (relu): ReLU(inplace=True)\n",
              "        (conv2): Conv2d(512, 512, kernel_size=(3, 3), stride=(1, 1), padding=(1, 1), bias=False)\n",
              "        (bn2): BatchNorm2d(512, eps=1e-05, momentum=0.1, affine=True, track_running_stats=True)\n",
              "        (downsample): Sequential(\n",
              "          (0): Conv2d(256, 512, kernel_size=(1, 1), stride=(2, 2), bias=False)\n",
              "          (1): BatchNorm2d(512, eps=1e-05, momentum=0.1, affine=True, track_running_stats=True)\n",
              "        )\n",
              "      )\n",
              "      (1): BasicBlock(\n",
              "        (conv1): Conv2d(512, 512, kernel_size=(3, 3), stride=(1, 1), padding=(1, 1), bias=False)\n",
              "        (bn1): BatchNorm2d(512, eps=1e-05, momentum=0.1, affine=True, track_running_stats=True)\n",
              "        (relu): ReLU(inplace=True)\n",
              "        (conv2): Conv2d(512, 512, kernel_size=(3, 3), stride=(1, 1), padding=(1, 1), bias=False)\n",
              "        (bn2): BatchNorm2d(512, eps=1e-05, momentum=0.1, affine=True, track_running_stats=True)\n",
              "      )\n",
              "    )\n",
              "  )\n",
              "  (decoder_block1): Sequential(\n",
              "    (0): ReLU()\n",
              "    (1): ConvTranspose2d(512, 128, kernel_size=(3, 3), stride=(2, 2), padding=(1, 1), output_padding=(1, 1))\n",
              "  )\n",
              "  (decoder_block2): Sequential(\n",
              "    (0): ReLU()\n",
              "    (1): BatchNorm2d(256, eps=1e-05, momentum=0.1, affine=True, track_running_stats=True)\n",
              "    (2): ConvTranspose2d(256, 128, kernel_size=(3, 3), stride=(2, 2), padding=(1, 1), output_padding=(1, 1))\n",
              "  )\n",
              "  (decoder_block3): Sequential(\n",
              "    (0): ReLU()\n",
              "    (1): BatchNorm2d(256, eps=1e-05, momentum=0.1, affine=True, track_running_stats=True)\n",
              "    (2): ConvTranspose2d(256, 128, kernel_size=(3, 3), stride=(2, 2), padding=(1, 1), output_padding=(1, 1))\n",
              "  )\n",
              "  (decoder_block4): Sequential(\n",
              "    (0): ReLU()\n",
              "    (1): BatchNorm2d(256, eps=1e-05, momentum=0.1, affine=True, track_running_stats=True)\n",
              "    (2): ConvTranspose2d(256, 4, kernel_size=(3, 3), stride=(1, 1), padding=(1, 1))\n",
              "  )\n",
              "  (conv1x1_1): Conv2d(64, 128, kernel_size=(1, 1), stride=(1, 1))\n",
              "  (conv1x1_2): Conv2d(128, 128, kernel_size=(1, 1), stride=(1, 1))\n",
              "  (conv1x1_3): Conv2d(256, 128, kernel_size=(1, 1), stride=(1, 1))\n",
              ")"
            ]
          },
          "metadata": {
            "tags": []
          },
          "execution_count": 41
        }
      ]
    },
    {
      "cell_type": "markdown",
      "metadata": {
        "id": "hssx2gWTgdeP",
        "colab_type": "text"
      },
      "source": [
        "**STEP 5: INSTANTIATE LOSS CLASS**"
      ]
    },
    {
      "cell_type": "code",
      "metadata": {
        "id": "0edqFdg-Zh-U",
        "colab_type": "code",
        "colab": {}
      },
      "source": [
        "#Visualization of some of the training dataset images and corresponding heat-maps\n",
        "k=1\n",
        "for j,train_data in enumerate(train_loader):\n",
        "      k +=1\n",
        "      images = train_data['image'].to(device)\n",
        "      heatmaps = train_data['heatmap'].to(device)\n",
        "      plt.subplot(2,3,1)\n",
        "      plt.title('Train image' + str(k))\n",
        "      plt.imshow(images[0][0].cpu())\n",
        "      plt.subplot(2,3,2)\n",
        "      plt.title('Head')\n",
        "      plt.imshow(heatmaps[0][0].cpu().detach().numpy(), cmap= 'gray')\n",
        "      plt.subplot(2,3,3)\n",
        "      plt.title('Foot')\n",
        "      plt.imshow(heatmaps[0][1].cpu().detach().numpy(), cmap= 'gray')\n",
        "      plt.subplot(2,3,5)\n",
        "      plt.title('Trunk')\n",
        "      plt.imshow(heatmaps[0][2].cpu().detach().numpy(), cmap= 'gray')\n",
        "      plt.subplot(2,3,6)\n",
        "      plt.title('Hands')\n",
        "      plt.imshow(heatmaps[0][3].cpu().detach().numpy(), cmap= 'gray')\n",
        "      plt.show()"
      ],
      "execution_count": 0,
      "outputs": []
    },
    {
      "cell_type": "code",
      "metadata": {
        "id": "XlYG-lgMd6pl",
        "colab_type": "code",
        "outputId": "702bb939-b95a-46c7-d626-7bb1265f69cc",
        "colab": {
          "base_uri": "https://localhost:8080/",
          "height": 34
        }
      },
      "source": [
        "#Loss Function\n",
        "criterion = nn.MSELoss()\n",
        "criterion.to(device)"
      ],
      "execution_count": 0,
      "outputs": [
        {
          "output_type": "execute_result",
          "data": {
            "text/plain": [
              "MSELoss()"
            ]
          },
          "metadata": {
            "tags": []
          },
          "execution_count": 43
        }
      ]
    },
    {
      "cell_type": "markdown",
      "metadata": {
        "id": "pdBxJtVdghY9",
        "colab_type": "text"
      },
      "source": [
        "**STEP 6: INSTANTIATE OPTIMIZER CLASS**"
      ]
    },
    {
      "cell_type": "code",
      "metadata": {
        "id": "0p8JQUOqd2j2",
        "colab_type": "code",
        "colab": {}
      },
      "source": [
        "#Optimizer intialization\n",
        "optimizer = optim.Adam([\n",
        "                        {\"params\":model.encoder_block1.parameters(), \"lr\": 0.000001},\n",
        "                        {\"params\":model.encoder_block2.parameters(), \"lr\": 0.000001},\n",
        "                        {\"params\":model.encoder_block3.parameters(), \"lr\": 0.000001},\n",
        "                        {\"params\":model.encoder_block4.parameters(), \"lr\": 0.000001},\n",
        "                        {\"params\":model.decoder_block1.parameters()},\n",
        "                        {\"params\":model.decoder_block2.parameters()},\n",
        "                        {\"params\":model.decoder_block3.parameters()},\n",
        "                        {\"params\":model.decoder_block4.parameters()},\n",
        "                        {\"params\":model.conv1x1_1.parameters()},\n",
        "                        {\"params\":model.conv1x1_2.parameters()},\n",
        "                        {\"params\":model.conv1x1_3.parameters()}], lr=0.001)"
      ],
      "execution_count": 0,
      "outputs": []
    },
    {
      "cell_type": "markdown",
      "metadata": {
        "id": "kPPRkf4hd0BY",
        "colab_type": "text"
      },
      "source": [
        "**STEP 7: TRAIN THE MODEL**\n",
        "1. Functions used for training and testing the model.\n",
        "2. Training the model for 100 epochs with normal and downsampled datasets."
      ]
    },
    {
      "cell_type": "code",
      "metadata": {
        "id": "p0ufxJp2Wapl",
        "colab_type": "code",
        "colab": {}
      },
      "source": [
        "\n",
        "def train_model(model,train_loader, criterion, optimizer):\n",
        "      \"\"\"\n",
        "        Function used to train the model\n",
        "        Args:\n",
        "          model: Model which is to be trained.\n",
        "          Train_loader: Batched dataset used to train the model.\n",
        "          criterion: Criterion used to train the model.\n",
        "          optimizer: optimizer used for the model.\n",
        "      \"\"\"      \n",
        "      \n",
        "      model.train()\n",
        "      train_loss = 0.0\n",
        "      for i_batch, sample_batched in enumerate(train_loader):\n",
        "          \n",
        "          image = sample_batched['image'].to(device)\n",
        "          heatmap = sample_batched['heatmap'].to(device) \n",
        "          \n",
        "          output = model(image)\n",
        "          optimizer.zero_grad()\n",
        "          loss = criterion(output, heatmap)\n",
        "          train_loss += loss\n",
        "          loss.backward()  \n",
        "          optimizer.step()\n",
        "          \n",
        "      return train_loss.item(), model"
      ],
      "execution_count": 0,
      "outputs": []
    },
    {
      "cell_type": "code",
      "metadata": {
        "id": "ulXBv7X8knS_",
        "colab_type": "code",
        "colab": {}
      },
      "source": [
        "#Training the network \n",
        "#Only once\n",
        "total_loss = 0.0\n",
        "loss_details = [None]*100\n",
        "for epoch in range(100):\n",
        "    \n",
        "  \n",
        "    print(\"epoch\",epoch)\n",
        "    train_loss_, model = train_model(model,train_loader, criterion, optimizer)\n",
        "    loss_details[epoch] = train_loss_\n",
        "    print(\"train loss\",train_loss_)\n",
        "    total_loss += train_loss_\n",
        "    print(\"total loss\", total_loss)\n",
        "    "
      ],
      "execution_count": 0,
      "outputs": []
    },
    {
      "cell_type": "code",
      "metadata": {
        "id": "ELLN6ha3q1Kb",
        "colab_type": "code",
        "colab": {}
      },
      "source": [
        "path1 = '/content/drive/My Drive/Final_dataset/Final_model.pth'"
      ],
      "execution_count": 0,
      "outputs": []
    },
    {
      "cell_type": "code",
      "metadata": {
        "id": "kGTTJYSdrM6S",
        "colab_type": "code",
        "colab": {}
      },
      "source": [
        "#Saving details of trained model\n",
        "#Only once\n",
        "torch.save({\n",
        "            'epoch': epoch,\n",
        "            'model_state_dict': model.state_dict(),\n",
        "            'optimizer_state_dict': optimizer.state_dict(),\n",
        "            'train_loss1': loss_details,\n",
        "            }, path1)"
      ],
      "execution_count": 0,
      "outputs": []
    },
    {
      "cell_type": "code",
      "metadata": {
        "id": "LVGWZHn9rl8w",
        "colab_type": "code",
        "colab": {}
      },
      "source": [
        "model = myModel()\n",
        "optimizer = optimizer\n",
        "checkpoint = torch.load(path1)\n",
        "model.load_state_dict(checkpoint['model_state_dict'])\n",
        "optimizer.load_state_dict(checkpoint['optimizer_state_dict'])\n",
        "epoch = checkpoint['epoch']\n",
        "train_loss_1 = checkpoint['train_loss1']\n",
        "model.to(device)\n",
        "#model.eval()\n",
        "# - or -\n",
        "model.train()"
      ],
      "execution_count": 0,
      "outputs": []
    },
    {
      "cell_type": "code",
      "metadata": {
        "id": "FPkh-PtLxmWd",
        "colab_type": "code",
        "colab": {}
      },
      "source": [
        "#Only once\n",
        "total_loss1 = 0.0\n",
        "\n",
        "\n",
        "loss_details1 = [None]*150\n",
        "for epoch in range(100,150):\n",
        "    \n",
        "  \n",
        "    print(\"epoch\",epoch)\n",
        "    train_loss_, model = train_model(model,train_loader, criterion, optimizer,\n",
        "                                     epoch)\n",
        "    loss_details[epoch] = train_loss_\n",
        "    print(\"train loss\",train_loss_)\n",
        "    total_loss1 += train_loss_\n",
        "    print(\"total loss\", total_loss)\n",
        "    "
      ],
      "execution_count": 0,
      "outputs": []
    },
    {
      "cell_type": "code",
      "metadata": {
        "id": "kbT2uaUGIUir",
        "colab_type": "code",
        "colab": {}
      },
      "source": [
        "path2 = '/content/drive/My Drive/Final_dataset/Final_model1.pth'"
      ],
      "execution_count": 0,
      "outputs": []
    },
    {
      "cell_type": "code",
      "metadata": {
        "id": "wNz72WnyIicM",
        "colab_type": "code",
        "colab": {}
      },
      "source": [
        "#To save the model\n",
        "#Only once\n",
        "torch.save({\n",
        "            'epoch': epoch,\n",
        "            'model_state_dict': model.state_dict(),\n",
        "            'optimizer_state_dict': optimizer.state_dict(),\n",
        "            'train_loss1': train_loss_1,\n",
        "    'train_loss2' : loss_details,\n",
        "            }, path2)"
      ],
      "execution_count": 0,
      "outputs": []
    },
    {
      "cell_type": "markdown",
      "metadata": {
        "id": "Wi1zx6_gGySU",
        "colab_type": "text"
      },
      "source": [
        "**Evaluating the network**\n"
      ]
    },
    {
      "cell_type": "code",
      "metadata": {
        "id": "fezPKorQGx3s",
        "colab_type": "code",
        "colab": {}
      },
      "source": [
        "model = myModel()\n",
        "optimizer = optimizer\n",
        "\n",
        "checkpoint = torch.load(path2)\n",
        "model.load_state_dict(checkpoint['model_state_dict'])\n",
        "optimizer.load_state_dict(checkpoint['optimizer_state_dict'])\n",
        "epoch = checkpoint['epoch']\n",
        "train_loss_1 = checkpoint['train_loss1']\n",
        "\n",
        "model.to(device)\n",
        "model.eval()\n"
      ],
      "execution_count": 0,
      "outputs": []
    },
    {
      "cell_type": "markdown",
      "metadata": {
        "id": "E0r-JTuMeG4t",
        "colab_type": "text"
      },
      "source": [
        "**Functions used for testing the network**\n",
        "1.Calculate the center of the contour\n",
        "2.Post process function to calculate the metrics"
      ]
    },
    {
      "cell_type": "code",
      "metadata": {
        "id": "Fed9lZo4eHCF",
        "colab_type": "code",
        "colab": {}
      },
      "source": [
        "def center_of_shape(image):\n",
        "  \"\"\"\n",
        "  To find centers of the contours in the input image.\n",
        "  \n",
        "  Args:\n",
        "  image: Image of which we want to find the contours.\n",
        "  \n",
        "  Returns: Array of centers of all the contours in the input image.\n",
        "  \"\"\"\n",
        "  out_centers = []\n",
        "  kernel = np.ones((3, 3), np.uint8)\n",
        "  blurred = cv2.GaussianBlur(image, (5, 5), 0)\n",
        "  thresh = cv2.threshold(blurred,0.7, 255, cv2.THRESH_BINARY)[1]\n",
        "  cnts = cv2.findContours(thresh.copy().astype(np.uint8), cv2.RETR_EXTERNAL,cv2.CHAIN_APPROX_SIMPLE)\n",
        "  cnts = imutils.grab_contours(cnts)\n",
        "  for c in cnts:\n",
        "\t# compute the center of the contour\n",
        "    M = cv2.moments(c)\n",
        "    if(M[\"m00\"]>0):\n",
        "      cX = int(M[\"m10\"] / M[\"m00\"])\n",
        "      cY = int(M[\"m01\"] / M[\"m00\"])\n",
        "      out_centers.append((cX,cY))\n",
        "\n",
        "  return torch.FloatTensor(out_centers)\n",
        "\t# draw the contour and center of the shape on the image\n",
        "\t"
      ],
      "execution_count": 0,
      "outputs": []
    },
    {
      "cell_type": "markdown",
      "metadata": {
        "id": "5X7unTn5mzv_",
        "colab_type": "text"
      },
      "source": [
        "**Thresholding the distance with less than 4 pixels**"
      ]
    },
    {
      "cell_type": "code",
      "metadata": {
        "id": "dv9kbICVfK-N",
        "colab_type": "code",
        "colab": {}
      },
      "source": [
        "def post_process(tensor,out,allowed_distance):\n",
        "  \"\"\"\n",
        "  Determinining if the output from the model are contributing to true positive,\n",
        "  false negative or false positive based on the distance between the output and \n",
        "  actual center.\n",
        "  \n",
        "  Args: \n",
        "  Tensor: Boundary box details from the test dataset.\n",
        "  out: Centers of output details from the contour from output of the model.\n",
        "  allowed_distance: acceptable distance between boundary box center and output center.\n",
        "  returns:\n",
        "  Number of True Psoitive, False Negative and False postives in given combination.\n",
        "  \n",
        "  \"\"\"\n",
        "  l_b = 0\n",
        "  l_o = len(out)\n",
        "  \n",
        "  TruePositive = 0\n",
        "  FalseNegative = 0\n",
        "  FalsePositive = 0\n",
        "  correct = 0\n",
        "  for i in range(tensor.size(0)):\n",
        "    if(tensor[i][2][0]>0 or tensor[i][2][1]>0):\n",
        "      l_b +=1\n",
        "  \n",
        "  flag = np.zeros(l_b)\n",
        "  for k in range(l_o):\n",
        "    found = -1\n",
        "    for l in range(l_b):\n",
        "      Boundary_center = tensor[l][2]/4.0\n",
        "      object_detected = False\n",
        "      out_center = out[k]\n",
        "      if out_center[0]>0 or out_center[1]>0:\n",
        "        object_detected = True\n",
        "       \n",
        "      if object_detected:\n",
        "        dist = distance.euclidean(Boundary_center.cpu(),out_center.cpu()) \n",
        "        if dist <= allowed_distance:  \n",
        "          TruePositive +=1\n",
        "          found = l\n",
        "          break\n",
        "    if found == -1:\n",
        "      FalsePositive += 1\n",
        "    else:\n",
        "      flag[found] = 1\n",
        "  FalseNegative = np.count_nonzero(flag == 0)\n",
        "  return TruePositive,FalseNegative,FalsePositive"
      ],
      "execution_count": 0,
      "outputs": []
    },
    {
      "cell_type": "markdown",
      "metadata": {
        "id": "YJC_9kNlomzM",
        "colab_type": "text"
      },
      "source": [
        "**Thresholding distance less than 4 pixel**"
      ]
    },
    {
      "cell_type": "code",
      "metadata": {
        "id": "6y3nFDeM4qpq",
        "colab_type": "code",
        "colab": {}
      },
      "source": [
        "#Testing the model\n",
        "#loaded the model to use it. Therefore model.eval() is used\n",
        "#To used the trained model. model_final() should be used\n",
        "#distance = 4\n",
        "model.eval()\n",
        "correct = 0\n",
        "test_loss = 0\n",
        "total = 0\n",
        "Recall = torch.zeros(4)\n",
        "TruePositive = torch.zeros(4)\n",
        "FalsePositive = torch.zeros(4)\n",
        "FalseNegative = torch.zeros(4)\n",
        "FDR = torch.zeros(4)\n",
        "acc = torch.zeros(len(testloader))\n",
        "\n",
        "for j,test_data in enumerate(testloader):\n",
        "      \n",
        "    images = test_data['image'].to(device)\n",
        "    head_dtls = test_data['head_dtls'].to(device)\n",
        "    trunk_dtls = test_data['trunk_dtls'].to(device)\n",
        "    hands_dtls = test_data['hands_dtls'].to(device)\n",
        "    foot_dtls = test_data['foot_dtls'].to(device)\n",
        "    images.requires_grad_(False)\n",
        "    head_dtls.requires_grad_(False)\n",
        "    trunk_dtls.requires_grad_(False)\n",
        "    hands_dtls.requires_grad_(False)\n",
        "    foot_dtls.requires_grad_(False)\n",
        "    outputs = model(images)\n",
        "    batch_size = outputs.shape[0]\n",
        "    \n",
        "    for i in range(batch_size):\n",
        "      out_center1 = center_of_shape(outputs[i][0].cpu().detach().numpy())\n",
        "      tp,fn,fp = post_process(head_dtls[i],out_center1,4)\n",
        "      TruePositive[0] += tp\n",
        "      FalseNegative[0] += fn\n",
        "      FalsePositive[0]  += fp\n",
        "      \n",
        "      out_center2 = center_of_shape(outputs[i][1].cpu().detach().numpy())\n",
        "      tp,fn,fp = post_process(foot_dtls[i],out_center2,4)\n",
        "      \n",
        "      TruePositive[1] += tp\n",
        "      FalseNegative[1] += fn\n",
        "      FalsePositive[1]  += fp\n",
        "\n",
        "      out_center3 = center_of_shape(outputs[i][2].cpu().detach().numpy())\n",
        "      tp,fn,fp = post_process(trunk_dtls[i],out_center3,4)\n",
        "      \n",
        "      TruePositive[2] += tp\n",
        "      FalseNegative[2] += fn\n",
        "      FalsePositive[2]  += fp\n",
        "      out_center4 = center_of_shape(outputs[i][3].cpu().detach().numpy())\n",
        "      tp,fn,fp = post_process(hands_dtls[i],out_center4,4)\n",
        "      \n",
        "      TruePositive[3] += tp\n",
        "      FalseNegative[3] += fn\n",
        "      FalsePositive[3]  += fp\n",
        "    acc[j] = torch.mean(TruePositive) / (torch.mean(TruePositive) + torch.mean(FalseNegative) + torch.mean(FalsePositive))\n",
        "\n",
        "for i in range(4):\n",
        "    Recall[i] = (TruePositive[i])/(TruePositive[i]+FalseNegative[i])\n",
        "    FDR[i] = (FalsePositive[i])/(FalsePositive[i]+TruePositive[i])\n",
        "\n",
        "\n",
        "print(\"Recall of Head \"+str(round(float(Recall[0]),2)) )\n",
        "print(\"Recall of Foot \"+str(round(float(Recall[1] ),2)))\n",
        "print(\"Recall of Trunk \"+str(round(float(Recall[2]),2)) )\n",
        "print(\"Recall of Hand \"+str(round(float(Recall[3]),2)) )\n",
        "print(\"FDR of Head \"+str(round(float(FDR[0] ),2)))\n",
        "print(\"FDR of Foot \"+str(round(float(FDR[1]),2)) )\n",
        "print(\"FDR of Trunk \"+str(round(float(FDR[2]),2)) )\n",
        "print(\"FDR of Hand \"+str(round(float(FDR[3] ),2)))\n",
        "\n",
        "\n",
        "Total_recall = torch.mean(Recall)\n",
        "Total_FDR = torch.mean(FDR)\n",
        "print(\"Total recall \"  +str(round(float(Total_recall),2)))\n",
        "print(\"Total FDR \"  +str(round(float(Total_FDR),2)))\n",
        "print(\"Accuracy \" +str(round(float(acc.mean()),2)))"
      ],
      "execution_count": 0,
      "outputs": []
    },
    {
      "cell_type": "code",
      "metadata": {
        "id": "lKpGm-BPWQJy",
        "colab_type": "code",
        "colab": {}
      },
      "source": [
        "acc.mean()"
      ],
      "execution_count": 0,
      "outputs": []
    },
    {
      "cell_type": "markdown",
      "metadata": {
        "id": "uODAGhUgnn4z",
        "colab_type": "text"
      },
      "source": [
        "**Thresholding the distance with less than 5 pixels**"
      ]
    },
    {
      "cell_type": "code",
      "metadata": {
        "id": "Ch6Odb4oaG0H",
        "colab_type": "code",
        "colab": {}
      },
      "source": [
        "#ploting some of the test images along with output from different channels\n",
        "\n",
        "k=1\n",
        "for j,test_data in enumerate(testloader):\n",
        "      \n",
        "    images = test_data['image'].to(device)\n",
        "    head_dtls = test_data['head_dtls'].to(device)\n",
        "    trunk_dtls = test_data['trunk_dtls'].to(device)\n",
        "    hands_dtls = test_data['hands_dtls'].to(device)\n",
        "    foot_dtls = test_data['foot_dtls'].to(device)\n",
        "    images.requires_grad_(False)\n",
        "    head_dtls.requires_grad_(False)\n",
        "    trunk_dtls.requires_grad_(False)\n",
        "    hands_dtls.requires_grad_(False)\n",
        "    foot_dtls.requires_grad_(False)\n",
        "      #Forward pass only to get logits/output\n",
        "    batch_size = outputs.shape[0]\n",
        "    \n",
        "    for i in range(batch_size):\n",
        "      k += 1\n",
        "      plt.subplot(2,3,1)\n",
        "      plt.title('Test image' + str(k))\n",
        "      plt.imshow(images[i][0].cpu())\n",
        "      outputs = model(images)\n",
        "      plt.subplot(2,3,2)\n",
        "      plt.title('Head')\n",
        "      plt.imshow(outputs[i][0].cpu().detach().numpy(), cmap= 'gray')\n",
        "      plt.subplot(2,3,3)\n",
        "      plt.title('Foot')\n",
        "      plt.imshow(outputs[i][1].cpu().detach().numpy(), cmap= 'gray')\n",
        "      plt.subplot(2,3,5)\n",
        "      plt.title('Trunk')\n",
        "      plt.imshow(outputs[i][2].cpu().detach().numpy(), cmap= 'gray')\n",
        "      plt.subplot(2,3,6)\n",
        "      plt.title('Hands')\n",
        "      plt.imshow(outputs[i][3].cpu().detach().numpy(), cmap= 'gray')\n",
        "      plt.show()\n",
        "      "
      ],
      "execution_count": 0,
      "outputs": []
    },
    {
      "cell_type": "code",
      "metadata": {
        "id": "8qgCTjxeD05C",
        "colab_type": "code",
        "colab": {}
      },
      "source": [
        "#Testing the model\n",
        "#loaded the model to use it. Therefore model.eval() is used\n",
        "#To used the trained model. model_final() should be used\n",
        "#distance = 5\n",
        "model.eval()\n",
        "correct = 0\n",
        "test_loss = 0\n",
        "total = 0\n",
        "Recall = torch.zeros(4)\n",
        "TruePositive = torch.zeros(4)\n",
        "FalsePositive = torch.zeros(4)\n",
        "FalseNegative = torch.zeros(4)\n",
        "FDR = torch.zeros(4)\n",
        "acc_1 = torch.zeros(len(testloader))\n",
        "\n",
        "for j,test_data in enumerate(testloader):\n",
        "      \n",
        "    images = test_data['image'].to(device)\n",
        "    head_dtls = test_data['head_dtls'].to(device)\n",
        "    trunk_dtls = test_data['trunk_dtls'].to(device)\n",
        "    hands_dtls = test_data['hands_dtls'].to(device)\n",
        "    foot_dtls = test_data['foot_dtls'].to(device)\n",
        "    images.requires_grad_(False)\n",
        "    head_dtls.requires_grad_(False)\n",
        "    trunk_dtls.requires_grad_(False)\n",
        "    hands_dtls.requires_grad_(False)\n",
        "    foot_dtls.requires_grad_(False)\n",
        "    outputs = model(images)\n",
        "    batch_size = outputs.shape[0]\n",
        "    \n",
        "    for i in range(batch_size):\n",
        "      out_center1 = center_of_shape(outputs[i][0].cpu().detach().numpy())\n",
        "      tp,fn,fp = post_process(head_dtls[i],out_center1,5)\n",
        "      TruePositive[0] += tp\n",
        "      FalseNegative[0] += fn\n",
        "      FalsePositive[0]  += fp\n",
        "      \n",
        "      out_center2 = center_of_shape(outputs[i][1].cpu().detach().numpy())\n",
        "      tp,fn,fp = post_process(foot_dtls[i],out_center2,5)\n",
        "      \n",
        "      TruePositive[1] += tp\n",
        "      FalseNegative[1] += fn\n",
        "      FalsePositive[1]  += fp\n",
        "\n",
        "      out_center3 = center_of_shape(outputs[i][2].cpu().detach().numpy())\n",
        "      tp,fn,fp = post_process(trunk_dtls[i],out_center3,5)\n",
        "      \n",
        "      TruePositive[2] += tp\n",
        "      FalseNegative[2] += fn\n",
        "      FalsePositive[2]  += fp\n",
        "      \n",
        "      out_center4 = center_of_shape(outputs[i][3].cpu().detach().numpy())\n",
        "      tp,fn,fp = post_process(hands_dtls[i],out_center4,5)\n",
        "      \n",
        "      TruePositive[3] += tp\n",
        "      FalseNegative[3] += fn\n",
        "      FalsePositive[3]  += fp\n",
        "    acc_1[j] = torch.mean(TruePositive) / (torch.mean(TruePositive) + torch.mean(FalseNegative) + torch.mean(FalsePositive))\n",
        "\n",
        "for i in range(4):\n",
        "    Recall[i] = (TruePositive[i])/(TruePositive[i]+FalseNegative[i])\n",
        "    FDR[i] = (FalsePositive[i])/(FalsePositive[i]+TruePositive[i])\n",
        "\n",
        "\n",
        "print(\"Recall of Head \"+str(round(float(Recall[0]),2)) )\n",
        "print(\"Recall of Foot \"+str(round(float(Recall[1] ),2)))\n",
        "print(\"Recall of Trunk \"+str(round(float(Recall[2]),2)) )\n",
        "print(\"Recall of Hand \"+str(round(float(Recall[3]),2)) )\n",
        "print(\"FDR of Head \"+str(round(float(FDR[0] ),2)))\n",
        "print(\"FDR of Foot \"+str(round(float(FDR[1]),2)) )\n",
        "print(\"FDR of Trunk \"+str(round(float(FDR[2]),2)) )\n",
        "print(\"FDR of Hand \"+str(round(float(FDR[3] ),2)))\n",
        "\n",
        "\n",
        "Total_recall = torch.mean(Recall)\n",
        "Total_FDR = torch.mean(FDR)\n",
        "print(\"Total recall \"  +str(round(float(Total_recall),2)))\n",
        "print(\"Total FDR \"  +str(round(float(Total_FDR),2)))\n",
        "print(\"Accuracy \" +str(round(float(acc_1.mean()),2)))"
      ],
      "execution_count": 0,
      "outputs": []
    },
    {
      "cell_type": "code",
      "metadata": {
        "id": "cZHJUBi5DZoD",
        "colab_type": "code",
        "colab": {}
      },
      "source": [
        "#Average accuracy\n",
        "acc_1.mean()"
      ],
      "execution_count": 0,
      "outputs": []
    },
    {
      "cell_type": "code",
      "metadata": {
        "id": "W8tqq35FoUrK",
        "colab_type": "code",
        "colab": {}
      },
      "source": [
        "#Testing the model\n",
        "#loaded the model to use it. Therefore model.eval() is used\n",
        "#To used the trained model. model_final() should be used\n",
        "#distance = 6\n",
        "model.eval()\n",
        "correct = 0\n",
        "test_loss = 0\n",
        "total = 0\n",
        "Recall = torch.zeros(4)\n",
        "TruePositive = torch.zeros(4)\n",
        "FalsePositive = torch.zeros(4)\n",
        "FalseNegative = torch.zeros(4)\n",
        "FDR = torch.zeros(4)\n",
        "acc_2 = torch.zeros(len(testloader))\n",
        "\n",
        "for j,test_data in enumerate(testloader):\n",
        "      \n",
        "    images = test_data['image'].to(device)\n",
        "    head_dtls = test_data['head_dtls'].to(device)\n",
        "    trunk_dtls = test_data['trunk_dtls'].to(device)\n",
        "    hands_dtls = test_data['hands_dtls'].to(device)\n",
        "    foot_dtls = test_data['foot_dtls'].to(device)\n",
        "    images.requires_grad_(False)\n",
        "    head_dtls.requires_grad_(False)\n",
        "    trunk_dtls.requires_grad_(False)\n",
        "    hands_dtls.requires_grad_(False)\n",
        "    foot_dtls.requires_grad_(False)\n",
        "    outputs = model(images)\n",
        "    batch_size = outputs.shape[0]\n",
        "    \n",
        "    for i in range(batch_size):\n",
        "      out_center1 = center_of_shape(outputs[i][0].cpu().detach().numpy())\n",
        "      tp,fn,fp = post_process(head_dtls[i],out_center1,6)\n",
        "      TruePositive[0] += tp\n",
        "      FalseNegative[0] += fn\n",
        "      FalsePositive[0]  += fp\n",
        "      \n",
        "      out_center2 = center_of_shape(outputs[i][1].cpu().detach().numpy())\n",
        "      tp,fn,fp = post_process(foot_dtls[i],out_center2,6)\n",
        "      \n",
        "      TruePositive[1] += tp\n",
        "      FalseNegative[1] += fn\n",
        "      FalsePositive[1]  += fp\n",
        "\n",
        "      out_center3 = center_of_shape(outputs[i][2].cpu().detach().numpy())\n",
        "      tp,fn,fp = post_process(trunk_dtls[i],out_center3,6)\n",
        "      \n",
        "      TruePositive[2] += tp\n",
        "      FalseNegative[2] += fn\n",
        "      FalsePositive[2]  += fp\n",
        "      out_center4 = center_of_shape(outputs[i][3].cpu().detach().numpy())\n",
        "      tp,fn,fp = post_process(hands_dtls[i],out_center4,6)\n",
        "      \n",
        "      TruePositive[3] += tp\n",
        "      FalseNegative[3] += fn\n",
        "      FalsePositive[3]  += fp\n",
        "    acc_2[j] = torch.mean(TruePositive) / (torch.mean(TruePositive) + torch.mean(FalseNegative) + torch.mean(FalsePositive))\n",
        "\n",
        "for i in range(4):\n",
        "    Recall[i] = (TruePositive[i])/(TruePositive[i]+FalseNegative[i])\n",
        "    FDR[i] = (FalsePositive[i])/(FalsePositive[i]+TruePositive[i])\n",
        "\n",
        "\n",
        "print(\"Recall of Head \"+str(round(float(Recall[0]),2)) )\n",
        "print(\"Recall of Foot \"+str(round(float(Recall[1] ),2)))\n",
        "print(\"Recall of Trunk \"+str(round(float(Recall[2]),2)) )\n",
        "print(\"Recall of Hand \"+str(round(float(Recall[3]),2)) )\n",
        "print(\"FDR of Head \"+str(round(float(FDR[0] ),2)))\n",
        "print(\"FDR of Foot \"+str(round(float(FDR[1]),2)) )\n",
        "print(\"FDR of Trunk \"+str(round(float(FDR[2]),2)) )\n",
        "print(\"FDR of Hand \"+str(round(float(FDR[3] ),2)))\n",
        "\n",
        "\n",
        "Total_recall = torch.mean(Recall)\n",
        "Total_FDR = torch.mean(FDR)\n",
        "print(\"Total recall \"  +str(round(float(Total_recall),2)))\n",
        "print(\"Total FDR \"  +str(round(float(Total_FDR),2)))\n",
        "print(\"Accuracy \" +str(round(float(acc_2.mean()),2)))"
      ],
      "execution_count": 0,
      "outputs": []
    },
    {
      "cell_type": "code",
      "metadata": {
        "id": "N8xehuXmobcR",
        "colab_type": "code",
        "colab": {}
      },
      "source": [
        "acc_2.mean()"
      ],
      "execution_count": 0,
      "outputs": []
    },
    {
      "cell_type": "code",
      "metadata": {
        "id": "AyfqjsiYaC4z",
        "colab_type": "code",
        "colab": {}
      },
      "source": [
        "# Visulaizing output from all the channels for all the images in test dataset\n",
        "model.eval()\n",
        "correct = 0\n",
        "test_loss = 0\n",
        "total = 0\n",
        "Recall = torch.zeros(4)\n",
        "TruePositive = torch.zeros(4)\n",
        "FalsePositive = torch.zeros(4)\n",
        "FalseNegative = torch.zeros(4)\n",
        "FDR = torch.zeros(4)\n",
        "acc = torch.zeros(len(testloader))\n",
        "k=1\n",
        "for j,test_data in enumerate(testloader):\n",
        "      \n",
        "    images = test_data['image'].to(device)\n",
        "    head_dtls = test_data['head_dtls'].to(device)\n",
        "    trunk_dtls = test_data['trunk_dtls'].to(device)\n",
        "    hands_dtls = test_data['hands_dtls'].to(device)\n",
        "    foot_dtls = test_data['foot_dtls'].to(device)\n",
        "    images.requires_grad_(False)\n",
        "    head_dtls.requires_grad_(False)\n",
        "    trunk_dtls.requires_grad_(False)\n",
        "    hands_dtls.requires_grad_(False)\n",
        "    foot_dtls.requires_grad_(False)\n",
        "      #Forward pass only to get logits/output\n",
        "    batch_size = outputs.shape[0]\n",
        "    \n",
        "    for i in range(batch_size):\n",
        "      k += 1\n",
        "      plt.subplot(2,3,1)\n",
        "      plt.title('Test image' + str(k))\n",
        "      plt.imshow(images[i][0].cpu())\n",
        "      outputs = model(images)\n",
        "      plt.subplot(2,3,2)\n",
        "      plt.title('Head')\n",
        "      plt.imshow(outputs[i][0].cpu().detach().numpy(), cmap= 'gray')\n",
        "      plt.subplot(2,3,3)\n",
        "      plt.title('Foot')\n",
        "      plt.imshow(outputs[i][1].cpu().detach().numpy(), cmap= 'gray')\n",
        "      plt.subplot(2,3,5)\n",
        "      plt.title('Trunk')\n",
        "      plt.imshow(outputs[i][2].cpu().detach().numpy(), cmap= 'gray')\n",
        "      plt.subplot(2,3,6)\n",
        "      plt.title('Hands')\n",
        "      plt.imshow(outputs[i][3].cpu().detach().numpy(), cmap= 'gray')\n",
        "      plt.show()"
      ],
      "execution_count": 0,
      "outputs": []
    },
    {
      "cell_type": "markdown",
      "metadata": {
        "id": "3eu3jJoaoYbd",
        "colab_type": "text"
      },
      "source": [
        "**Learning Curve**"
      ]
    },
    {
      "cell_type": "code",
      "metadata": {
        "id": "TvHdQHjonOZu",
        "colab_type": "code",
        "colab": {}
      },
      "source": [
        "epochs = range(0,100)"
      ],
      "execution_count": 0,
      "outputs": []
    },
    {
      "cell_type": "code",
      "metadata": {
        "id": "crd9bFyqkGl9",
        "colab_type": "code",
        "colab": {}
      },
      "source": [
        "train_loss = train_loss_1[:100]"
      ],
      "execution_count": 0,
      "outputs": []
    },
    {
      "cell_type": "code",
      "metadata": {
        "id": "v9lL1Ie0k2QZ",
        "colab_type": "code",
        "outputId": "7eca8681-2ceb-458d-8d6c-845070173233",
        "colab": {
          "base_uri": "https://localhost:8080/",
          "height": 283
        }
      },
      "source": [
        "plt.plot(epochs, train_loss)\n",
        "plt.ylabel('Train loss')\n",
        "plt.xlabel('No of Epochs')\n",
        "plt.show()"
      ],
      "execution_count": 0,
      "outputs": [
        {
          "output_type": "display_data",
          "data": {
            "image/png": "[encoded data removed]",
            "text/plain": [
              "<Figure size 432x288 with 1 Axes>"
            ]
          },
          "metadata": {
            "tags": []
          }
        }
      ]
    },
    {
      "cell_type": "code",
      "metadata": {
        "id": "FmNprnGg3-69",
        "colab_type": "code",
        "outputId": "a4ed85bb-b170-4806-e132-d9adae20118c",
        "colab": {
          "base_uri": "https://localhost:8080/",
          "height": 286
        }
      },
      "source": [
        "df=pd.DataFrame({'x': range(0,818,5), '4 pixel': acc, '5 pixel': acc_1, '6 pixel': acc_2 })\n",
        "\n",
        "\n",
        "plt.plot( 'x', '4 pixel', data=df, marker='.', markerfacecolor='blue', markersize=12, color='skyblue', linewidth=4)\n",
        "plt.plot( 'x', '5 pixel', data=df, marker='', color='olive', linewidth=2)\n",
        "plt.plot( 'x', '6 pixel', data=df, marker='', color='olive', linewidth=2, linestyle='dashed')\n",
        "plt.legend()"
      ],
      "execution_count": 0,
      "outputs": [
        {
          "output_type": "execute_result",
          "data": {
            "text/plain": [
              "<matplotlib.legend.Legend at 0x7f78308fc160>"
            ]
          },
          "metadata": {
            "tags": []
          },
          "execution_count": 86
        },
        {
          "output_type": "display_data",
          "data": {
            "image/png": "[encoded data removed]",
            "text/plain": [
              "<Figure size 432x288 with 1 Axes>"
            ]
          },
          "metadata": {
            "tags": []
          }
        }
      ]
    },
    {
      "cell_type": "code",
      "metadata": {
        "id": "x4hpNEqOpnq-",
        "colab_type": "code",
        "colab": {}
      },
      "source": [
        ""
      ],
      "execution_count": 0,
      "outputs": []
    }
  ]
}